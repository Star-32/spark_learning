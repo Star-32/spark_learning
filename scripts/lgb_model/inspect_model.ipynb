{
 "cells": [
  {
   "cell_type": "code",
   "execution_count": null,
   "metadata": {
    "ExecuteTime": {
     "end_time": "2024-06-20T07:37:13.887152Z",
     "start_time": "2024-06-20T07:37:12.791238Z"
    },
    "collapsed": true
   },
   "outputs": [],
   "source": [
    "from spark_learning.lgbm import get_feature_importance\n",
    "from spark_learning.utils.models import load_model"
   ]
  },
  {
   "cell_type": "code",
   "execution_count": null,
   "metadata": {
    "ExecuteTime": {
     "end_time": "2024-06-20T07:37:14.701119Z",
     "start_time": "2024-06-20T07:37:14.678040Z"
    },
    "collapsed": false
   },
   "outputs": [],
   "source": [
    "model = load_model(\"lgb.dill\")\n",
    "get_feature_importance(model)"
   ]
  }
 ],
 "metadata": {
  "kernelspec": {
   "display_name": "Python 3",
   "language": "python",
   "name": "python3"
  },
  "language_info": {
   "codemirror_mode": {
    "name": "ipython",
    "version": 3
   },
   "file_extension": ".py",
   "mimetype": "text/x-python",
   "name": "python",
   "nbconvert_exporter": "python",
   "pygments_lexer": "ipython3",
   "version": "3.12.1"
  }
 },
 "nbformat": 4,
 "nbformat_minor": 0
}
